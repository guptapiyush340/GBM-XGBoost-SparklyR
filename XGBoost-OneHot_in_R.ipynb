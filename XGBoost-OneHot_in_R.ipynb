{
 "cells": [
  {
   "cell_type": "markdown",
   "metadata": {},
   "source": [
    "# <center> XGBoost using SparklyR with OHE in R\n"
   ]
  },
  {
   "cell_type": "markdown",
   "metadata": {},
   "source": [
    "## Importing required functions & libraries"
   ]
  },
  {
   "cell_type": "code",
   "execution_count": 6,
   "metadata": {
    "collapsed": true
   },
   "outputs": [],
   "source": [
    "library(sparklyr)\n",
    "library(dplyr)\n",
    "library(DBI) #To use sequel commands\n",
    "library(stringr)\n",
    "library(xgboost)\n",
    "library(data.table)\n",
    "library(pROC)"
   ]
  },
  {
   "cell_type": "markdown",
   "metadata": {},
   "source": [
    "## Setup and configure spark connect"
   ]
  },
  {
   "cell_type": "code",
   "execution_count": 7,
   "metadata": {
    "collapsed": true
   },
   "outputs": [],
   "source": [
    "config=spark_config()\n",
    "#config$sparklyr.cores.local <- 4\n",
    "config$spark.driver.cores <- 1\n",
    "config$spark.driver.memory <- \"2G\"\n",
    "config$spark.executor.cores <- 3\n",
    "config$spark.executor.memory <- \"6G\"\n",
    "config$spark.dynamicAllocation.maxExecutors <- 200"
   ]
  },
  {
   "cell_type": "code",
   "execution_count": 8,
   "metadata": {
    "collapsed": true
   },
   "outputs": [],
   "source": [
    "sc=spark_connect(master = \"local\", config = config)"
   ]
  },
  {
   "cell_type": "code",
   "execution_count": 9,
   "metadata": {},
   "outputs": [
    {
     "name": "stdout",
     "output_type": "stream",
     "text": [
      "[1] \"Driver cores = 1\"\n",
      "[1] \"Executor cores = 3\"\n"
     ]
    }
   ],
   "source": [
    "print(paste(\"Driver cores =\",sc$config$spark.driver.cores))\n",
    "print(paste(\"Executor cores =\",sc$config$spark.executor.cores))"
   ]
  },
  {
   "cell_type": "markdown",
   "metadata": {},
   "source": [
    "## Import Required Dataset"
   ]
  },
  {
   "cell_type": "code",
   "execution_count": 10,
   "metadata": {
    "collapsed": true
   },
   "outputs": [],
   "source": [
    "t_import=Sys.time()\n",
    "df <- read.csv(\"Delay_20k.csv\",header = T,sep = \",\")\n",
    "df_tbl <- copy_to(sc,df,\"df_sc\")\n",
    "# The copy_to function copys the local data frame to a spark data table\n",
    "#iris_preview <- dbGetQuery(sc, \"SELECT * FROM iris LIMIT 10\")\n",
    "#spark_read_csv - To upload csv file in hdfs\n",
    "#flights_tbl %>% filter(dep_delay == 2) - Can use dplyr on tables in cluster"
   ]
  },
  {
   "cell_type": "code",
   "execution_count": 11,
   "metadata": {},
   "outputs": [
    {
     "data": {
      "text/plain": [
       "# Source:   table<df_sc> [?? x 30]\n",
       "# Database: spark_connection\n",
       "        X  Year Month DayofMonth DayOfWeek DepTime CRSDepTime ArrTime CRSArrTime\n",
       "    <int> <int> <int>      <int>     <int>   <int>      <int>   <int>      <int>\n",
       " 1 1.33e6  2008     3         29         6    1435       1425    1550       1530\n",
       " 2 5.34e6  2008     9         27         6    1343       1320    1641       1600\n",
       " 3 5.60e6  2008    10         31         5    1205       1159    1419       1425\n",
       " 4 5.94e6  2008    10         12         7    1716       1702    2031       2030\n",
       " 5 2.38e6  2008     4         12         6    1516       1440    1801       1730\n",
       " 6 4.57e6  2008     8         15         5    1656       1441    1936       1720\n",
       " 7 3.71e6  2008     7         27         7    2238       2017    2351       2140\n",
       " 8 4.12e6  2008     7          1         2    1115       1005    1303       1205\n",
       " 9 4.90e5  2008     1         16         3    1743       1440    1915       1610\n",
       "10 4.53e6  2008     8         29         5    2242       2230    2355       2344\n",
       "# ... with more rows, and 21 more variables: UniqueCarrier <chr>,\n",
       "#   FlightNum <int>, TailNum <chr>, ActualElapsedTime <int>,\n",
       "#   CRSElapsedTime <int>, AirTime <int>, ArrDelay <int>, DepDelay <int>,\n",
       "#   Origin <chr>, Dest <chr>, Distance <int>, TaxiIn <int>, TaxiOut <int>,\n",
       "#   Cancelled <int>, CancellationCode <chr>, Diverted <int>,\n",
       "#   CarrierDelay <int>, WeatherDelay <int>, NASDelay <int>,\n",
       "#   SecurityDelay <int>, LateAircraftDelay <int>"
      ]
     },
     "metadata": {},
     "output_type": "display_data"
    }
   ],
   "source": [
    "df_tbl"
   ]
  },
  {
   "cell_type": "code",
   "execution_count": 12,
   "metadata": {},
   "outputs": [
    {
     "data": {
      "text/html": [
       "<ol class=list-inline>\n",
       "\t<li>'X'</li>\n",
       "\t<li>'Year'</li>\n",
       "\t<li>'Month'</li>\n",
       "\t<li>'DayofMonth'</li>\n",
       "\t<li>'DayOfWeek'</li>\n",
       "\t<li>'DepTime'</li>\n",
       "\t<li>'CRSDepTime'</li>\n",
       "\t<li>'ArrTime'</li>\n",
       "\t<li>'CRSArrTime'</li>\n",
       "\t<li>'UniqueCarrier'</li>\n",
       "\t<li>'FlightNum'</li>\n",
       "\t<li>'TailNum'</li>\n",
       "\t<li>'ActualElapsedTime'</li>\n",
       "\t<li>'CRSElapsedTime'</li>\n",
       "\t<li>'AirTime'</li>\n",
       "\t<li>'ArrDelay'</li>\n",
       "\t<li>'DepDelay'</li>\n",
       "\t<li>'Origin'</li>\n",
       "\t<li>'Dest'</li>\n",
       "\t<li>'Distance'</li>\n",
       "\t<li>'TaxiIn'</li>\n",
       "\t<li>'TaxiOut'</li>\n",
       "\t<li>'Cancelled'</li>\n",
       "\t<li>'CancellationCode'</li>\n",
       "\t<li>'Diverted'</li>\n",
       "\t<li>'CarrierDelay'</li>\n",
       "\t<li>'WeatherDelay'</li>\n",
       "\t<li>'NASDelay'</li>\n",
       "\t<li>'SecurityDelay'</li>\n",
       "\t<li>'LateAircraftDelay'</li>\n",
       "</ol>\n"
      ],
      "text/latex": [
       "\\begin{enumerate*}\n",
       "\\item 'X'\n",
       "\\item 'Year'\n",
       "\\item 'Month'\n",
       "\\item 'DayofMonth'\n",
       "\\item 'DayOfWeek'\n",
       "\\item 'DepTime'\n",
       "\\item 'CRSDepTime'\n",
       "\\item 'ArrTime'\n",
       "\\item 'CRSArrTime'\n",
       "\\item 'UniqueCarrier'\n",
       "\\item 'FlightNum'\n",
       "\\item 'TailNum'\n",
       "\\item 'ActualElapsedTime'\n",
       "\\item 'CRSElapsedTime'\n",
       "\\item 'AirTime'\n",
       "\\item 'ArrDelay'\n",
       "\\item 'DepDelay'\n",
       "\\item 'Origin'\n",
       "\\item 'Dest'\n",
       "\\item 'Distance'\n",
       "\\item 'TaxiIn'\n",
       "\\item 'TaxiOut'\n",
       "\\item 'Cancelled'\n",
       "\\item 'CancellationCode'\n",
       "\\item 'Diverted'\n",
       "\\item 'CarrierDelay'\n",
       "\\item 'WeatherDelay'\n",
       "\\item 'NASDelay'\n",
       "\\item 'SecurityDelay'\n",
       "\\item 'LateAircraftDelay'\n",
       "\\end{enumerate*}\n"
      ],
      "text/markdown": [
       "1. 'X'\n",
       "2. 'Year'\n",
       "3. 'Month'\n",
       "4. 'DayofMonth'\n",
       "5. 'DayOfWeek'\n",
       "6. 'DepTime'\n",
       "7. 'CRSDepTime'\n",
       "8. 'ArrTime'\n",
       "9. 'CRSArrTime'\n",
       "10. 'UniqueCarrier'\n",
       "11. 'FlightNum'\n",
       "12. 'TailNum'\n",
       "13. 'ActualElapsedTime'\n",
       "14. 'CRSElapsedTime'\n",
       "15. 'AirTime'\n",
       "16. 'ArrDelay'\n",
       "17. 'DepDelay'\n",
       "18. 'Origin'\n",
       "19. 'Dest'\n",
       "20. 'Distance'\n",
       "21. 'TaxiIn'\n",
       "22. 'TaxiOut'\n",
       "23. 'Cancelled'\n",
       "24. 'CancellationCode'\n",
       "25. 'Diverted'\n",
       "26. 'CarrierDelay'\n",
       "27. 'WeatherDelay'\n",
       "28. 'NASDelay'\n",
       "29. 'SecurityDelay'\n",
       "30. 'LateAircraftDelay'\n",
       "\n",
       "\n"
      ],
      "text/plain": [
       " [1] \"X\"                 \"Year\"              \"Month\"            \n",
       " [4] \"DayofMonth\"        \"DayOfWeek\"         \"DepTime\"          \n",
       " [7] \"CRSDepTime\"        \"ArrTime\"           \"CRSArrTime\"       \n",
       "[10] \"UniqueCarrier\"     \"FlightNum\"         \"TailNum\"          \n",
       "[13] \"ActualElapsedTime\" \"CRSElapsedTime\"    \"AirTime\"          \n",
       "[16] \"ArrDelay\"          \"DepDelay\"          \"Origin\"           \n",
       "[19] \"Dest\"              \"Distance\"          \"TaxiIn\"           \n",
       "[22] \"TaxiOut\"           \"Cancelled\"         \"CancellationCode\" \n",
       "[25] \"Diverted\"          \"CarrierDelay\"      \"WeatherDelay\"     \n",
       "[28] \"NASDelay\"          \"SecurityDelay\"     \"LateAircraftDelay\""
      ]
     },
     "metadata": {},
     "output_type": "display_data"
    }
   ],
   "source": [
    "colnames(df_tbl)"
   ]
  },
  {
   "cell_type": "markdown",
   "metadata": {},
   "source": [
    "## Data Preparation / Feature Engineering"
   ]
  },
  {
   "cell_type": "markdown",
   "metadata": {},
   "source": [
    "### Remove the unwanted columns and creating dependent column"
   ]
  },
  {
   "cell_type": "code",
   "execution_count": 13,
   "metadata": {
    "collapsed": true
   },
   "outputs": [],
   "source": [
    "t_Data_Prep=Sys.time()\n",
    "#columns required to build model\n",
    "selected_columns=c(\"Origin\", \"Dest\", \"Distance\", \"Month\", \"DayOfWeek\", \"UniqueCarrier\", \"Dep_Hour\", \"DepDelay_flag\")\n",
    "\n",
    "# Create flag base on delay in departure and filter the required columns\n",
    "df_tbl <- df_tbl %>% \n",
    "  mutate(DepDelay_flag=ifelse(DepDelay >= 15, 1, 0),\n",
    "         Dep_Hour=ifelse(nchar(CRSDepTime)==4,substr(CRSDepTime,1,2),ifelse(nchar(CRSDepTime)==3,paste(\"0\",substr(CRSDepTime,1,1),sep=\"\"),\"00\"))) %>%\n",
    "  select(selected_columns)"
   ]
  },
  {
   "cell_type": "markdown",
   "metadata": {},
   "source": [
    "### One hot encoding in R"
   ]
  },
  {
   "cell_type": "code",
   "execution_count": 14,
   "metadata": {
    "collapsed": true
   },
   "outputs": [],
   "source": [
    "#Creating R data frame from spark data frame\n",
    "all_data <- as.data.frame(df_tbl)\n",
    "label <- \"DepDelay_flag\"\n",
    "\n",
    "#One hot encoding\n",
    "new_data <- model.matrix(~.+0,data = all_data[,colnames(all_data)!=label])\n",
    "\n",
    "data_df <- as.data.frame(new_data)\n",
    "data_df[,label] <- all_data[,label]"
   ]
  },
  {
   "cell_type": "markdown",
   "metadata": {},
   "source": [
    "## Model Development"
   ]
  },
  {
   "cell_type": "markdown",
   "metadata": {},
   "source": [
    "### Split the dataset into train & test"
   ]
  },
  {
   "cell_type": "code",
   "execution_count": 15,
   "metadata": {
    "collapsed": true
   },
   "outputs": [],
   "source": [
    "t_model=Sys.time()\n",
    "\n",
    "#Split data into train & test\n",
    "dt = sort(sample(nrow(data_df), nrow(data_df)*.7))\n",
    "\n",
    "train_df <- data_df[dt,]\n",
    "test_df <- data_df[-dt,]"
   ]
  },
  {
   "cell_type": "markdown",
   "metadata": {},
   "source": [
    "### Create matrix to implement xgboost"
   ]
  },
  {
   "cell_type": "code",
   "execution_count": 16,
   "metadata": {
    "collapsed": true
   },
   "outputs": [],
   "source": [
    "new_train <- as.matrix(train_df[,colnames(train_df)!=label])\n",
    "new_test <- as.matrix(test_df[,colnames(test_df)!=label])\n",
    "\n",
    "#Convert into dense matrix\n",
    "dtrain <- xgb.DMatrix(data = new_train,label = train_df[,label]) \n",
    "dtest <- xgb.DMatrix(data = new_test,label=test_df[,label])"
   ]
  },
  {
   "cell_type": "markdown",
   "metadata": {},
   "source": [
    "### Fit training data into model"
   ]
  },
  {
   "cell_type": "code",
   "execution_count": 17,
   "metadata": {},
   "outputs": [
    {
     "data": {
      "text/html": [
       "0.734752"
      ],
      "text/latex": [
       "0.734752"
      ],
      "text/markdown": [
       "0.734752"
      ],
      "text/plain": [
       "[1] 0.734752"
      ]
     },
     "metadata": {},
     "output_type": "display_data"
    }
   ],
   "source": [
    "parameters <- list(booster = \"gbtree\",\n",
    "                   objective = \"binary:logistic\",\n",
    "                   nthread=4,\n",
    "                   max.depth=5,\n",
    "                   subsample=0.8,\n",
    "                   eta=0.2)\n",
    "\n",
    "model_xgboost <- xgboost(data=dtrain,\n",
    "                         params = parameters,\n",
    "                         nrounds = 60,\n",
    "                         eval_metric=\"auc\",\n",
    "                         verbose = F)\n",
    "max(model_xgboost$evaluation_log$train_auc)"
   ]
  },
  {
   "cell_type": "markdown",
   "metadata": {},
   "source": [
    "### Predict using test data & check AUC value"
   ]
  },
  {
   "cell_type": "code",
   "execution_count": 18,
   "metadata": {},
   "outputs": [
    {
     "name": "stdout",
     "output_type": "stream",
     "text": [
      "[1] \"Test Area Under ROC: 0.592860310017562\"\n"
     ]
    }
   ],
   "source": [
    "pred <- predict(model_xgboost,dtest)\n",
    "roc_curve <- roc(test_df[,label],pred,auc = T)\n",
    "Auc <- auc(roc_curve)\n",
    "print(paste(\"Test Area Under ROC:\",Auc))\n",
    "t_end=Sys.time()"
   ]
  },
  {
   "cell_type": "markdown",
   "metadata": {},
   "source": [
    "## Exporting results"
   ]
  },
  {
   "cell_type": "code",
   "execution_count": 19,
   "metadata": {
    "collapsed": true
   },
   "outputs": [],
   "source": [
    "Overall_time <- t_end-t_import\n",
    "Data_Extraction_time <- t_Data_Prep-t_import\n",
    "Data_Preparation_time <- t_model-t_Data_Prep\n",
    "Model_time <- t_end-t_model\n",
    "units(Overall_time) <- \"secs\"\n",
    "units(Data_Extraction_time) <- \"secs\"\n",
    "units(Data_Preparation_time) <- \"secs\"\n",
    "units(Model_time) <- \"secs\"\n",
    "\n",
    "Accuracy <- Auc\n",
    "\n",
    "result_df <- cbind(Overall_time,Data_Extraction_time,Data_Preparation_time,Model_time,Accuracy)\n",
    "\n",
    "write.csv(result_df,\"Results_XGB_R_20k_v1.csv\")"
   ]
  }
 ],
 "metadata": {
  "kernelspec": {
   "display_name": "R",
   "language": "R",
   "name": "ir"
  },
  "language_info": {
   "codemirror_mode": "r",
   "file_extension": ".r",
   "mimetype": "text/x-r-source",
   "name": "R",
   "pygments_lexer": "r",
   "version": "3.4.1"
  },
  "toc": {
   "base_numbering": 1,
   "nav_menu": {},
   "number_sections": true,
   "sideBar": true,
   "skip_h1_title": true,
   "title_cell": "Table of Contents",
   "title_sidebar": "Contents",
   "toc_cell": false,
   "toc_position": {},
   "toc_section_display": true,
   "toc_window_display": true
  }
 },
 "nbformat": 4,
 "nbformat_minor": 2
}
