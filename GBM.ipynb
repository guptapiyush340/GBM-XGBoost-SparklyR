{
 "cells": [
  {
   "cell_type": "markdown",
   "metadata": {},
   "source": [
    "# <center> GBT using SparklyR\n"
   ]
  },
  {
   "cell_type": "markdown",
   "metadata": {},
   "source": [
    "## Importing required functions & libraries"
   ]
  },
  {
   "cell_type": "code",
   "execution_count": 16,
   "metadata": {
    "collapsed": true
   },
   "outputs": [],
   "source": [
    "library(sparklyr)\n",
    "library(dplyr)\n",
    "library(DBI) #To use sequel commands\n",
    "library(stringr)"
   ]
  },
  {
   "cell_type": "markdown",
   "metadata": {},
   "source": [
    "## Setup and configure spark connect"
   ]
  },
  {
   "cell_type": "code",
   "execution_count": 2,
   "metadata": {
    "collapsed": true
   },
   "outputs": [],
   "source": [
    "config=spark_config()\n",
    "#config$sparklyr.cores.local <- 4\n",
    "config$spark.driver.cores <- 1\n",
    "config$spark.driver.memory <- \"2G\"\n",
    "config$spark.executor.cores <- 3\n",
    "config$spark.executor.memory <- \"6G\"\n",
    "config$spark.dynamicAllocation.maxExecutors <- 200"
   ]
  },
  {
   "cell_type": "code",
   "execution_count": 3,
   "metadata": {
    "collapsed": true
   },
   "outputs": [],
   "source": [
    "sc=spark_connect(master = \"local\", config = config)"
   ]
  },
  {
   "cell_type": "code",
   "execution_count": 4,
   "metadata": {},
   "outputs": [
    {
     "name": "stdout",
     "output_type": "stream",
     "text": [
      "[1] \"Driver cores = 1\"\n",
      "[1] \"Executor cores = 3\"\n"
     ]
    }
   ],
   "source": [
    "print(paste(\"Driver cores =\",sc$config$spark.driver.cores))\n",
    "print(paste(\"Executor cores =\",sc$config$spark.executor.cores))"
   ]
  },
  {
   "cell_type": "markdown",
   "metadata": {},
   "source": [
    "## Import Required Dataset"
   ]
  },
  {
   "cell_type": "code",
   "execution_count": 5,
   "metadata": {
    "collapsed": true
   },
   "outputs": [],
   "source": [
    "t_import=Sys.time()\n",
    "df <- read.csv(\"Delay_500k.csv\",header = T,sep = \",\")\n",
    "df_tbl <- copy_to(sc,df,\"df_sc\")\n",
    "# The copy_to function copys the local data frame to a spark data table\n",
    "#iris_preview <- dbGetQuery(sc, \"SELECT * FROM iris LIMIT 10\")\n",
    "#spark_read_csv - To upload csv file in hdfs\n",
    "#flights_tbl %>% filter(dep_delay == 2) - Can use dplyr on tables in cluster"
   ]
  },
  {
   "cell_type": "code",
   "execution_count": 6,
   "metadata": {},
   "outputs": [
    {
     "data": {
      "text/plain": [
       "# Source:   table<df_sc> [?? x 30]\n",
       "# Database: spark_connection\n",
       "        X  Year Month DayofMonth DayOfWeek DepTime CRSDepTime ArrTime CRSArrTime\n",
       "    <int> <int> <int>      <int>     <int>   <int>      <int>   <int>      <int>\n",
       " 1 5.96e6  2008    11          9         7    1811       1755    2005       1950\n",
       " 2 2.23e5  2008     1         10         4    1333       1215    1554       1436\n",
       " 3 3.41e5  2008     1         18         5    1249       1218    1548       1523\n",
       " 4 4.98e6  2008     9          7         7    1400       1345    1613       1603\n",
       " 5 2.38e6  2008     4         11         5    1021        943    1152       1115\n",
       " 6 9.22e4  2008     1         31         4    1057       1050    1216       1210\n",
       " 7 1.55e6  2008     3         27         4    1746       1730    1909       1901\n",
       " 8 5.43e6  2008    10         18         6    1254       1245    1552       1605\n",
       " 9 2.32e6  2008     4         21         1     930        912    1144       1119\n",
       "10 6.75e6  2008    12         26         5    1329       1250    1451       1415\n",
       "# ... with more rows, and 21 more variables: UniqueCarrier <chr>,\n",
       "#   FlightNum <int>, TailNum <chr>, ActualElapsedTime <int>,\n",
       "#   CRSElapsedTime <int>, AirTime <int>, ArrDelay <int>, DepDelay <int>,\n",
       "#   Origin <chr>, Dest <chr>, Distance <int>, TaxiIn <int>, TaxiOut <int>,\n",
       "#   Cancelled <int>, CancellationCode <chr>, Diverted <int>,\n",
       "#   CarrierDelay <int>, WeatherDelay <int>, NASDelay <int>,\n",
       "#   SecurityDelay <int>, LateAircraftDelay <int>"
      ]
     },
     "metadata": {},
     "output_type": "display_data"
    }
   ],
   "source": [
    "df_tbl"
   ]
  },
  {
   "cell_type": "code",
   "execution_count": 7,
   "metadata": {},
   "outputs": [
    {
     "data": {
      "text/html": [
       "<ol class=list-inline>\n",
       "\t<li>'X'</li>\n",
       "\t<li>'Year'</li>\n",
       "\t<li>'Month'</li>\n",
       "\t<li>'DayofMonth'</li>\n",
       "\t<li>'DayOfWeek'</li>\n",
       "\t<li>'DepTime'</li>\n",
       "\t<li>'CRSDepTime'</li>\n",
       "\t<li>'ArrTime'</li>\n",
       "\t<li>'CRSArrTime'</li>\n",
       "\t<li>'UniqueCarrier'</li>\n",
       "\t<li>'FlightNum'</li>\n",
       "\t<li>'TailNum'</li>\n",
       "\t<li>'ActualElapsedTime'</li>\n",
       "\t<li>'CRSElapsedTime'</li>\n",
       "\t<li>'AirTime'</li>\n",
       "\t<li>'ArrDelay'</li>\n",
       "\t<li>'DepDelay'</li>\n",
       "\t<li>'Origin'</li>\n",
       "\t<li>'Dest'</li>\n",
       "\t<li>'Distance'</li>\n",
       "\t<li>'TaxiIn'</li>\n",
       "\t<li>'TaxiOut'</li>\n",
       "\t<li>'Cancelled'</li>\n",
       "\t<li>'CancellationCode'</li>\n",
       "\t<li>'Diverted'</li>\n",
       "\t<li>'CarrierDelay'</li>\n",
       "\t<li>'WeatherDelay'</li>\n",
       "\t<li>'NASDelay'</li>\n",
       "\t<li>'SecurityDelay'</li>\n",
       "\t<li>'LateAircraftDelay'</li>\n",
       "</ol>\n"
      ],
      "text/latex": [
       "\\begin{enumerate*}\n",
       "\\item 'X'\n",
       "\\item 'Year'\n",
       "\\item 'Month'\n",
       "\\item 'DayofMonth'\n",
       "\\item 'DayOfWeek'\n",
       "\\item 'DepTime'\n",
       "\\item 'CRSDepTime'\n",
       "\\item 'ArrTime'\n",
       "\\item 'CRSArrTime'\n",
       "\\item 'UniqueCarrier'\n",
       "\\item 'FlightNum'\n",
       "\\item 'TailNum'\n",
       "\\item 'ActualElapsedTime'\n",
       "\\item 'CRSElapsedTime'\n",
       "\\item 'AirTime'\n",
       "\\item 'ArrDelay'\n",
       "\\item 'DepDelay'\n",
       "\\item 'Origin'\n",
       "\\item 'Dest'\n",
       "\\item 'Distance'\n",
       "\\item 'TaxiIn'\n",
       "\\item 'TaxiOut'\n",
       "\\item 'Cancelled'\n",
       "\\item 'CancellationCode'\n",
       "\\item 'Diverted'\n",
       "\\item 'CarrierDelay'\n",
       "\\item 'WeatherDelay'\n",
       "\\item 'NASDelay'\n",
       "\\item 'SecurityDelay'\n",
       "\\item 'LateAircraftDelay'\n",
       "\\end{enumerate*}\n"
      ],
      "text/markdown": [
       "1. 'X'\n",
       "2. 'Year'\n",
       "3. 'Month'\n",
       "4. 'DayofMonth'\n",
       "5. 'DayOfWeek'\n",
       "6. 'DepTime'\n",
       "7. 'CRSDepTime'\n",
       "8. 'ArrTime'\n",
       "9. 'CRSArrTime'\n",
       "10. 'UniqueCarrier'\n",
       "11. 'FlightNum'\n",
       "12. 'TailNum'\n",
       "13. 'ActualElapsedTime'\n",
       "14. 'CRSElapsedTime'\n",
       "15. 'AirTime'\n",
       "16. 'ArrDelay'\n",
       "17. 'DepDelay'\n",
       "18. 'Origin'\n",
       "19. 'Dest'\n",
       "20. 'Distance'\n",
       "21. 'TaxiIn'\n",
       "22. 'TaxiOut'\n",
       "23. 'Cancelled'\n",
       "24. 'CancellationCode'\n",
       "25. 'Diverted'\n",
       "26. 'CarrierDelay'\n",
       "27. 'WeatherDelay'\n",
       "28. 'NASDelay'\n",
       "29. 'SecurityDelay'\n",
       "30. 'LateAircraftDelay'\n",
       "\n",
       "\n"
      ],
      "text/plain": [
       " [1] \"X\"                 \"Year\"              \"Month\"            \n",
       " [4] \"DayofMonth\"        \"DayOfWeek\"         \"DepTime\"          \n",
       " [7] \"CRSDepTime\"        \"ArrTime\"           \"CRSArrTime\"       \n",
       "[10] \"UniqueCarrier\"     \"FlightNum\"         \"TailNum\"          \n",
       "[13] \"ActualElapsedTime\" \"CRSElapsedTime\"    \"AirTime\"          \n",
       "[16] \"ArrDelay\"          \"DepDelay\"          \"Origin\"           \n",
       "[19] \"Dest\"              \"Distance\"          \"TaxiIn\"           \n",
       "[22] \"TaxiOut\"           \"Cancelled\"         \"CancellationCode\" \n",
       "[25] \"Diverted\"          \"CarrierDelay\"      \"WeatherDelay\"     \n",
       "[28] \"NASDelay\"          \"SecurityDelay\"     \"LateAircraftDelay\""
      ]
     },
     "metadata": {},
     "output_type": "display_data"
    }
   ],
   "source": [
    "colnames(df_tbl)"
   ]
  },
  {
   "cell_type": "markdown",
   "metadata": {},
   "source": [
    "## Data Preparation / Feature Engineering"
   ]
  },
  {
   "cell_type": "markdown",
   "metadata": {},
   "source": [
    "### Remove the unwanted columns and creating dependent column"
   ]
  },
  {
   "cell_type": "code",
   "execution_count": 8,
   "metadata": {
    "collapsed": true
   },
   "outputs": [],
   "source": [
    "t_Data_Prep=Sys.time()\n",
    "#columns required to build model\n",
    "selected_columns=c(\"Origin\", \"Dest\", \"Distance\", \"Month\", \"DayOfWeek\", \"UniqueCarrier\", \"Dep_Hour\", \"DepDelay_flag\")\n",
    "\n",
    "# Create flag base on delay in departure and filter the required columns\n",
    "df_tbl <- df_tbl %>% \n",
    "  mutate(DepDelay_flag=ifelse(DepDelay >= 15, 1, 0),\n",
    "         Dep_Hour=ifelse(nchar(CRSDepTime)==4,substr(CRSDepTime,1,2),ifelse(nchar(CRSDepTime)==3,paste(\"0\",substr(CRSDepTime,1,1),sep=\"\"),\"00\"))) %>%\n",
    "  select(selected_columns)"
   ]
  },
  {
   "cell_type": "markdown",
   "metadata": {},
   "source": [
    "### Change the data type of columns to use string indexer function"
   ]
  },
  {
   "cell_type": "code",
   "execution_count": 9,
   "metadata": {
    "collapsed": true
   },
   "outputs": [],
   "source": [
    "# Casting the data type of columns\n",
    "df_tbl <- df_tbl %>% \n",
    "  mutate(Dep_hour_num=as.numeric(Dep_Hour),\n",
    "         Distance_num=as.numeric(Distance),\n",
    "         Origin_char=as.character(Origin),\n",
    "         Dest_char=as.character(Dest),\n",
    "         Month_char=as.character(Month),\n",
    "         DayOfWeek_char=as.character(DayOfWeek),\n",
    "         UniqueCarrier_char=as.character(UniqueCarrier)) %>% \n",
    "  select(-Distance,-Dep_Hour,-Origin,-Dest,-Month,-DayOfWeek,-UniqueCarrier)"
   ]
  },
  {
   "cell_type": "markdown",
   "metadata": {},
   "source": [
    "### Create pipeline for string indexer of features & label"
   ]
  },
  {
   "cell_type": "code",
   "execution_count": 10,
   "metadata": {
    "collapsed": true
   },
   "outputs": [],
   "source": [
    "# Using pipeline to streamline the process for features\n",
    "pipeline_transformation <- ml_pipeline(sc,uid=\"pipeline_transformation\")\n",
    "pipeline_transformation <- ft_string_indexer(pipeline_transformation,input_col=\"Origin_char\",output_col=\"Origin_char_id\")\n",
    "pipeline_transformation <- ft_string_indexer(pipeline_transformation,input_col=\"Dest_char\",output_col=\"Dest_char_id\")\n",
    "pipeline_transformation <- ft_string_indexer(pipeline_transformation,input_col=\"Month_char\",output_col=\"Month_char_id\")\n",
    "pipeline_transformation <- ft_string_indexer(pipeline_transformation,input_col=\"DayOfWeek_char\",output_col=\"DayOfWeek_char_id\")\n",
    "pipeline_transformation <- ft_string_indexer(pipeline_transformation,input_col=\"UniqueCarrier_char\",\n",
    "                                             output_col=\"UniqueCarrier_char_id\")\n",
    "\n",
    "features_vec <-  c(\"Origin_char_id\",\"Dest_char_id\",\"Month_char_id\",\"DayOfWeek_char_id\",\n",
    "                   \"UniqueCarrier_char_id\",\"Distance_num\",\"Dep_hour_num\")\n",
    "pipeline_transformation <- ft_vector_assembler(pipeline_transformation,input_col=features_vec,output_col=\"features\")\n",
    "\n",
    "#Using pipeline to streamline label columns\n",
    "label_col <- \"DepDelay_flag\"\n",
    "pipeline_transformation <- ft_string_indexer(pipeline_transformation,input_col=\"DepDelay_flag\",output_col=\"label\")"
   ]
  },
  {
   "cell_type": "markdown",
   "metadata": {},
   "source": [
    "### Transform the data using pipeline and cache to use in future"
   ]
  },
  {
   "cell_type": "code",
   "execution_count": 11,
   "metadata": {},
   "outputs": [
    {
     "data": {
      "text/plain": [
       "# Source:   table<all_data_sc> [?? x 15]\n",
       "# Database: spark_connection\n",
       "   DepDelay_flag Dep_hour_num Distance_num Origin_char Dest_char Month_char\n",
       "           <dbl>        <dbl>        <dbl> <chr>       <chr>     <chr>     \n",
       " 1             1           17         1056 FLL         STL       11        \n",
       " 2             1           12          472 DEN         OMA       1         \n",
       " 3             1           12          813 AUS         ATL       1         \n",
       " 4             1           13          264 ORD         CVG       9         \n",
       " 5             1            9          445 ATL         SRQ       4         \n",
       " 6             0           10          491 MCI         BNA       1         \n",
       " 7             1           17          370 BOS         BWI       3         \n",
       " 8             0           12          862 LAX         DEN       10        \n",
       " 9             1            9          679 SFO         SEA       4         \n",
       "10             1           12          403 ATL         MCO       12        \n",
       "# ... with more rows, and 9 more variables: DayOfWeek_char <chr>,\n",
       "#   UniqueCarrier_char <chr>, Origin_char_id <dbl>, Dest_char_id <dbl>,\n",
       "#   Month_char_id <dbl>, DayOfWeek_char_id <dbl>, UniqueCarrier_char_id <dbl>,\n",
       "#   features <list>, label <dbl>"
      ]
     },
     "metadata": {},
     "output_type": "display_data"
    }
   ],
   "source": [
    "# Fit & transform data using pipeline and cahce to use in subsequent steps\n",
    "all_data <- ml_fit_and_transform(pipeline_transformation,df_tbl)\n",
    "\n",
    "sdf_register(all_data,\"all_data_sc\")\n",
    "tbl_cache(sc,\"all_data_sc\")"
   ]
  },
  {
   "cell_type": "markdown",
   "metadata": {},
   "source": [
    "## Model Development"
   ]
  },
  {
   "cell_type": "markdown",
   "metadata": {},
   "source": [
    "### Split the dataset into train & test"
   ]
  },
  {
   "cell_type": "code",
   "execution_count": 12,
   "metadata": {
    "collapsed": true
   },
   "outputs": [],
   "source": [
    "t_model=Sys.time()\n",
    "partition <- all_data %>% sdf_partition(train = 0.75, test = 0.25, seed = 8585)\n",
    "\n",
    "train_tbl <- partition$train\n",
    "test_tbl <- partition$test"
   ]
  },
  {
   "cell_type": "markdown",
   "metadata": {},
   "source": [
    "### Fit training data into model"
   ]
  },
  {
   "cell_type": "code",
   "execution_count": 13,
   "metadata": {
    "collapsed": true
   },
   "outputs": [],
   "source": [
    "model_gbm <- ml_gbt_classifier(x = train_tbl,\n",
    "                               formula=NULL,\n",
    "                               type = \"classification\",\n",
    "                               features_col = \"features\",\n",
    "                               label_col = \"label\",\n",
    "                               loss_type = \"logistic\",\n",
    "                               max_bins = 300L,\n",
    "                               max_depth = 7L,\n",
    "                               max_iter = 60L,\n",
    "                               step_size = 0.2,\n",
    "                               subsampling_rate = 0.8,\n",
    "                               seed = 123,\n",
    "                               max_memory_in_mb = 256L,\n",
    "                               feature_subset_strategy = \"0.8\")"
   ]
  },
  {
   "cell_type": "markdown",
   "metadata": {},
   "source": [
    "### Predict using test data & check AUC value"
   ]
  },
  {
   "cell_type": "code",
   "execution_count": 14,
   "metadata": {},
   "outputs": [
    {
     "name": "stdout",
     "output_type": "stream",
     "text": [
      "[1] \"Test Area Under ROC: 0.61460917165327\"\n"
     ]
    }
   ],
   "source": [
    "predict_score <- ml_predict(model_gbm,test_tbl)\n",
    "Auc <- ml_binary_classification_eval(predict_score,label_col=\"label\",prediction_col=\"prediction\",metric_name = \"areaUnderROC\")\n",
    "print(paste(\"Test Area Under ROC:\",Auc))\n",
    "t_end=Sys.time()"
   ]
  },
  {
   "cell_type": "markdown",
   "metadata": {},
   "source": [
    "## Exporting results"
   ]
  },
  {
   "cell_type": "code",
   "execution_count": 15,
   "metadata": {
    "collapsed": true
   },
   "outputs": [],
   "source": [
    "Overall_time <- t_end-t_import\n",
    "Data_Extraction_time <- t_Data_Prep-t_import\n",
    "Data_Preparation_time <- t_model-t_Data_Prep\n",
    "Model_time <- t_end-t_model\n",
    "units(Overall_time) <- \"secs\"\n",
    "units(Data_Extraction_time) <- \"secs\"\n",
    "units(Data_Preparation_time) <- \"secs\"\n",
    "units(Model_time) <- \"secs\"\n",
    "\n",
    "Accuracy <- Auc\n",
    "\n",
    "result_df <- cbind(Overall_time,Data_Extraction_time,Data_Preparation_time,Model_time,Accuracy)\n",
    "\n",
    "write.csv(result_df,\"Results_500k_v3.csv\")"
   ]
  }
 ],
 "metadata": {
  "kernelspec": {
   "display_name": "R",
   "language": "R",
   "name": "ir"
  },
  "language_info": {
   "codemirror_mode": "r",
   "file_extension": ".r",
   "mimetype": "text/x-r-source",
   "name": "R",
   "pygments_lexer": "r",
   "version": "3.4.1"
  },
  "toc": {
   "base_numbering": 1,
   "nav_menu": {},
   "number_sections": true,
   "sideBar": true,
   "skip_h1_title": true,
   "title_cell": "Table of Contents",
   "title_sidebar": "Contents",
   "toc_cell": false,
   "toc_position": {
    "height": "calc(100% - 180px)",
    "left": "10px",
    "top": "150px",
    "width": "348px"
   },
   "toc_section_display": true,
   "toc_window_display": true
  }
 },
 "nbformat": 4,
 "nbformat_minor": 2
}
